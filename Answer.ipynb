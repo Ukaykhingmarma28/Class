{
  "nbformat": 4,
  "nbformat_minor": 0,
  "metadata": {
    "colab": {
      "provenance": [],
      "authorship_tag": "ABX9TyN1Uvg2PCZgKmdqZM2jtpya",
      "include_colab_link": true
    },
    "kernelspec": {
      "name": "python3",
      "display_name": "Python 3"
    },
    "language_info": {
      "name": "python"
    }
  },
  "cells": [
    {
      "cell_type": "markdown",
      "metadata": {
        "id": "view-in-github",
        "colab_type": "text"
      },
      "source": [
        "<a href=\"https://colab.research.google.com/github/Ukaykhingmarma28/Class/blob/main/Answer.ipynb\" target=\"_parent\"><img src=\"https://colab.research.google.com/assets/colab-badge.svg\" alt=\"Open In Colab\"/></a>"
      ]
    },
    {
      "cell_type": "code",
      "execution_count": 2,
      "metadata": {
        "colab": {
          "base_uri": "https://localhost:8080/"
        },
        "id": "YGfNSR9YTE-1",
        "outputId": "64843078-81dd-4cc7-8b84-d76181fbe02a"
      },
      "outputs": [
        {
          "output_type": "stream",
          "name": "stdout",
          "text": [
            "My Average Mark of this Semester is 86.2\n"
          ]
        }
      ],
      "source": [
        "#calculate your average marks for the semester. create five variables\n",
        "#to store the numbers of five different subjects and output the average.\n",
        "#Expected output should be: My Average Mark of this Semester is XX.Y\n",
        "\n",
        "English = 80\n",
        "Math = 88\n",
        "CSE = 92\n",
        "Physics = 90\n",
        "Chemistry = 81\n",
        "\n",
        "Average = (English + Math + CSE + Physics + Chemistry) / 5\n",
        "\n",
        "print(\"My Average Mark of this Semester is\", Average)"
      ]
    },
    {
      "cell_type": "code",
      "source": [
        "# You want to arrange a class party during the upcoming semester break. You got a total of 20,000 Taka from the university.\n",
        "# Create meaningful variables to store each cost and total budget. You should not use any calculation with raw values.\n",
        "# All calculation should be done with variables and then output the values asked below:\n",
        "# Banner and miscellaneous cost = 2000 taka\n",
        "# Prize and souvenir = 4500 taka\n",
        "# Rest of the money is for the food and drinks\n",
        "# Initially you had 40 students who would attend the party. How much would be the budget for food and drinks per person? Show the calculation and output the result.\n",
        "# You invited the faculties and 10 of them have agreed to attend the party. What would be the new budget per person for food and drinks? Show the calculation and output the result.\n",
        "# Five of the students have some emergencies and canceled the plan of attending the party. What would be the final budget per person for food and drinks? Show the calculation and output the result.\n",
        "\n",
        "total_budget = 20000\n",
        "banner_miscellaneous = 2000\n",
        "prize_souvenir = 4500\n",
        "\n",
        "remaining_budget = total_budget - banner_miscellaneous - prize_souvenir\n",
        "\n",
        "students = 40\n",
        "food_drinks_per_person = remaining_budget / students\n",
        "\n",
        "print(\"The budget per person for food and drinks is\", food_drinks_per_person, \" taka\")\n",
        "\n",
        "faculties = 10\n",
        "new_total_member = faculties + students\n",
        "new_budget_per_person = remaining_budget / new_total_member\n",
        "\n",
        "print(\"The new budget per person for food and drinks is\", new_budget_per_person, \" taka\")\n",
        "\n",
        "emergencies = 5\n",
        "final_budget_per_person = remaining_budget / (new_total_member - emergencies)\n",
        "\n",
        "print(\"The final budget per person for food and drinks is\", final_budget_per_person, \" taka\")"
      ],
      "metadata": {
        "colab": {
          "base_uri": "https://localhost:8080/"
        },
        "id": "rKf9Ri_DUBfX",
        "outputId": "8687718d-64db-4047-b0fc-9add5b29a3e2"
      },
      "execution_count": 7,
      "outputs": [
        {
          "output_type": "stream",
          "name": "stdout",
          "text": [
            "The budget per person for food and drinks is 337.5  taka\n",
            "The new budget per person for food and drinks is 270.0  taka\n",
            "The final budget per person for food and drinks is 300.0  taka\n"
          ]
        }
      ]
    },
    {
      "cell_type": "code",
      "source": [
        "#This one should be done after our next class. It includes some inputs which I haven't shown in the class yet.\n",
        "# Take input of two numbers and calculate their \"Division\" and \"Floor Division\" of them. Then calculate the \"Relative Error\" and \"Absolute Error\" for them.\n",
        "\n",
        "num1 = float(input(\"Enter the first number: \"))\n",
        "num2 = float(input(\"Enter the second number: \"))\n",
        "\n",
        "division_result = num1 / num2\n",
        "\n",
        "floor_division_result = num1 // num2\n",
        "\n",
        "absolute_error = abs(division_result - floor_division_result)\n",
        "\n",
        "relative_error = absolute_error / abs(division_result)\n",
        "\n",
        "print(f\"Division result: {division_result}\")\n",
        "print(f\"Floor division result: {floor_division_result}\")\n",
        "print(f\"Absolute error: {absolute_error}\")\n",
        "print(f\"Relative error: {relative_error}\")\n"
      ],
      "metadata": {
        "colab": {
          "base_uri": "https://localhost:8080/"
        },
        "id": "tguX_Uy7Y4EL",
        "outputId": "ea1bf3b9-1779-405e-c4df-4f43cec85b61"
      },
      "execution_count": 9,
      "outputs": [
        {
          "output_type": "stream",
          "name": "stdout",
          "text": [
            "Enter the first number: 3\n",
            "Enter the second number: 3\n",
            "Division result: 1.0\n",
            "Floor division result: 1.0\n",
            "Absolute error: 0.0\n",
            "Relative error: 0.0\n"
          ]
        }
      ]
    }
  ]
}